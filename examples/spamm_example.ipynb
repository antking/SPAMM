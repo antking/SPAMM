{
 "cells": [
  {
   "cell_type": "markdown",
   "metadata": {},
   "source": [
    "# How to run SPAMM"
   ]
  },
  {
   "cell_type": "markdown",
   "metadata": {},
   "source": [
    "The only required inputs to run `SPAMM` are:\n",
    "1. A source AGN spectrum\n",
    "2. A list of which components to fit\n",
    "\n",
    "However, there are numerous optional input arguments available. Since there are dozens of optional parameters, they have been separated out into a configuration file, `parameters.yaml`. An example default file is provided in `spamm/utils/parameters.yaml`. Users will want to modify this file or create their own with the same format. Any parameters file can be specified at runtime- if one is not found, the default will be used."
   ]
  },
  {
   "cell_type": "markdown",
   "metadata": {},
   "source": [
    "## Getting Started"
   ]
  },
  {
   "cell_type": "markdown",
   "metadata": {},
   "source": [
    "`SPAMM` can accept the required input spectrum in three different forms: \n",
    "1. `spamm.Spectrum` instance\n",
    "2. `specutils.Spectrum1D` instance\n",
    "3. tuple containing the wavelength and flux and optionally, the error on the flux\n",
    "\n",
    "All three methods will be shown below.\n",
    "\n",
    "The list of acceptable components to fit are listed below (they are case insensitive):\n",
    "- `PL` (Nuclear Continuum)\n",
    "- `FE` (Iron Forect)\n",
    "- `HOST` (Host Galaxy)\n",
    "- `BC` (Balmer Continuum)\n",
    "- `BPC` (Balmer Pseudo Continuum)\n",
    "- `CALZETTI_EXT` (Calzetti extinction curves)\n",
    "- `SMC_EXT` (Small Magellanic Cloud extinction curves)\n",
    "- `LMC_EXT` (Large Magellanic Cloud extinction curves)\n",
    "- `MW_EXT` (Milky Way extinction curves)\n",
    "- `AGN_EXT` (AGN extinction curves)"
   ]
  },
  {
   "cell_type": "markdown",
   "metadata": {},
   "source": [
    "### From a `spamm.Spectrum` instance"
   ]
  },
  {
   "cell_type": "code",
   "execution_count": null,
   "metadata": {},
   "outputs": [],
   "source": [
    "import numpy as np\n",
    "import astropy.units as u\n",
    "from spamm import spamm"
   ]
  },
  {
   "cell_type": "code",
   "execution_count": null,
   "metadata": {},
   "outputs": [],
   "source": [
    "from astropy.modeling.powerlaws import PowerLaw1D\n",
    "\n",
    "# Define the unit-less wavelength and flux\n",
    "wavelength = np.arange(1000, 2000)\n",
    "\n",
    "# Just generate a simple sample power law for a spectrum\n",
    "pl = PowerLaw1D(amplitude=1.5e-17, x_0=1500, alpha=-2.0)\n",
    "flux = pl(wavelength)\n",
    "\n",
    "# Make the error 5% of the flux array \n",
    "flux_error = flux * 0.05"
   ]
  },
  {
   "cell_type": "code",
   "execution_count": null,
   "metadata": {},
   "outputs": [],
   "source": [
    "from spamm.Spectrum import Spectrum\n",
    "\n",
    "# If no wavelength and flux units are provided upon instantiation, \n",
    "# they will be retrieved from the parameters.yaml file.\n",
    "inspectrum = Spectrum(spectral_axis=wavelength, flux=flux, flux_error=flux_error,\n",
    "                      spectral_axis_unit=u.AA, flux_unit=u.Unit('erg cm-2 s-1 AA-1'))\n",
    "\n",
    "# Let's fit only the Nuclear Continuum component.\n",
    "spamm_out = spamm.spamm(complist=[\"PL\"], inspectrum=inspectrum)"
   ]
  },
  {
   "cell_type": "markdown",
   "metadata": {},
   "source": [
    "### From a `specutils.Spectrum1D` instance\n",
    "The most important thing to note when starting from a `specutils.Spectrum1D` object is that `Spectrum1D` requires the wavelength and flux arrays to be `astropy.unit.Quantity` objects. While an input uncertainty is an optional parameter when instantiating `Spectrum1D`, it is required when instantiating a `spamm.Spectrum` object and therefore should be passed into `Spectrum1D` before using `spamm`. \n",
    "`Spectrum1D` requires the uncertainty to be an `astropy.nddata.NDUncertainty` object."
   ]
  },
  {
   "cell_type": "code",
   "execution_count": null,
   "metadata": {},
   "outputs": [],
   "source": [
    "from specutils import Spectrum1D\n",
    "from astropy.nddata import StdDevUncertainty"
   ]
  },
  {
   "cell_type": "code",
   "execution_count": null,
   "metadata": {},
   "outputs": [],
   "source": [
    "# specutils.Spectrum1D objects must be instantiated with units.\n",
    "wavelength_q = wavelength * u.AA\n",
    "flux_q = flux * u.Unit('erg cm-2 s-1 AA-1')\n",
    "flux_error_q = flux_q * 0.05\n",
    "# Explicit array and unit arguments are shown below to illustrate how they are passed in.\n",
    "uncertainty = StdDevUncertainty(flux_error_q.value, unit=flux_error_q.unit)"
   ]
  },
  {
   "cell_type": "code",
   "execution_count": null,
   "metadata": {},
   "outputs": [],
   "source": [
    "inspectrum = Spectrum1D(spectral_axis=wavelength_q, flux=flux_q, uncertainty=uncertainty)\n",
    "spamm_out = spamm.spamm(complist=[\"PL\"], inspectrum=inspectrum)"
   ]
  },
  {
   "cell_type": "markdown",
   "metadata": {},
   "source": [
    "### From a tuple"
   ]
  },
  {
   "cell_type": "code",
   "execution_count": null,
   "metadata": {},
   "outputs": [],
   "source": [
    "# Create a tuple with the wavelength, flux, and flux error arrays. \n",
    "intup = (wavelength, flux, flux_error)"
   ]
  },
  {
   "cell_type": "code",
   "execution_count": null,
   "metadata": {},
   "outputs": [],
   "source": [
    "# Note that when the input spectrum is defined as a tuple, \n",
    "# the wavelength and flux units will be retrieved from the parameters file.\n",
    "spamm_out = spamm.spamm(complist=[\"PL\"], inspectrum=intup)"
   ]
  },
  {
   "cell_type": "markdown",
   "metadata": {},
   "source": [
    "### Specifying an input parameters file\n",
    "An input `parameters.yaml` can be specified on runtime using the `par_file` argument. If one is not specified, the default file will be used."
   ]
  },
  {
   "cell_type": "code",
   "execution_count": null,
   "metadata": {},
   "outputs": [],
   "source": [
    "spamm_out = spamm.spamm(complist, inspectrum, par_file=\"/path/to/my/parameters.yaml\")"
   ]
  },
  {
   "cell_type": "code",
   "execution_count": null,
   "metadata": {},
   "outputs": [],
   "source": []
  }
 ],
 "metadata": {
  "kernelspec": {
   "display_name": "Python [conda env:spamm] *",
   "language": "python",
   "name": "conda-env-spamm-py"
  },
  "language_info": {
   "codemirror_mode": {
    "name": "ipython",
    "version": 3
   },
   "file_extension": ".py",
   "mimetype": "text/x-python",
   "name": "python",
   "nbconvert_exporter": "python",
   "pygments_lexer": "ipython3",
   "version": "3.7.2"
  }
 },
 "nbformat": 4,
 "nbformat_minor": 2
}
