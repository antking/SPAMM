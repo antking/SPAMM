{
 "cells": [
  {
   "cell_type": "markdown",
   "metadata": {},
   "source": [
    "# How to use SPAMM"
   ]
  },
  {
   "cell_type": "markdown",
   "metadata": {},
   "source": [
    "The only required inputs to run `SPAMM` are:\n",
    "1. A source AGN spectrum\n",
    "2. A list of which components to fit\n",
    "\n",
    "However, there are numerous optional input arguments available. Since there are dozens of optional parameters, they have been separated out into a configuration file, `parameters.yaml`. An example default file is provided in `spamm/utils/parameters.yaml`. Users will want to modify this file or create their own with the same format. Any parameters file can be specified at runtime- if one is not found, the default will be used."
   ]
  },
  {
   "cell_type": "markdown",
   "metadata": {},
   "source": [
    "## Getting Started"
   ]
  },
  {
   "cell_type": "markdown",
   "metadata": {},
   "source": [
    "`SPAMM` can accept the required input spectrum in three different forms: \n",
    "1. `spamm.Spectrum` instance\n",
    "2. `specutils.Spectrum1D` instance\n",
    "3. tuple containing the wavelength and flux and optionally, the error on the flux\n",
    "\n",
    "All three methods will be shown below.\n",
    "\n",
    "The list of acceptable components to fit are listed below:\n",
    "- `PL` (Nuclear Continuum)\n",
    "- `FE` (Iron Forect)\n",
    "- `HOST` (Host Galaxy)\n",
    "- `BC` (Balmer Continuum)\n",
    "- `BPC` (Balmer Pseudo Continuum)\n",
    "- `CALZETTI_EXT` (Calzetti extinction curves)\n",
    "- `SMC_EXT` (Small Magellanic Cloud extinction curves)\n",
    "- `LMC_EXT` (Large Magellanic Cloud extinction curves)\n",
    "- `MW_EXT` (Milky Way extinction curves)\n",
    "- `AGN_EXT` (AGN extinction curves)"
   ]
  },
  {
   "cell_type": "markdown",
   "metadata": {},
   "source": [
    "### From a `spamm.Spectrum` instance"
   ]
  },
  {
   "cell_type": "code",
   "execution_count": null,
   "metadata": {},
   "outputs": [],
   "source": [
    "import numpy as np\n",
    "import astropy.units as u\n",
    "from spamm import spamm"
   ]
  },
  {
   "cell_type": "code",
   "execution_count": null,
   "metadata": {},
   "outputs": [],
   "source": [
    "from spamm import Spectrum\n",
    "from astropy.modeling.powerlaws import PowerLaw1D\n",
    "\n",
    "wavelength = np.arange(1000, 2000)\n",
    "# Just generate a simple sample power law for a spectrum\n",
    "flux = PowerLaw1D(amplitude=1.5e-17, x_0=1500, alpha=-2.0)\n",
    "\n",
    "# The error on the flux is optional, but let's include it to illustrate how it's done.\n",
    "flux_error = flux * 0.05\n",
    "\n",
    "# If no wavelength and flux units are provided upon instantiation, \n",
    "# they will be retrieved from the parameters.yaml file.\n",
    "inspectrum = Spectrum(spectral_axis=wavelength, flux=flux, flux_error=flux_error,\n",
    "                      spectral_axis_unit=u.AA, flux_unit=u.Unit('erg cm-2 s-1 AA-1'))\n",
    "\n",
    "# Let's fit only the Nuclear Continuum component.\n",
    "spamm_out = spamm(complist=[\"PL\"], inspectrum=inspectrum)"
   ]
  }
 ],
 "metadata": {
  "kernelspec": {
   "display_name": "Python 3",
   "language": "python",
   "name": "python3"
  },
  "language_info": {
   "codemirror_mode": {
    "name": "ipython",
    "version": 3
   },
   "file_extension": ".py",
   "mimetype": "text/x-python",
   "name": "python",
   "nbconvert_exporter": "python",
   "pygments_lexer": "ipython3",
   "version": "3.7.2"
  }
 },
 "nbformat": 4,
 "nbformat_minor": 2
}
